{
 "cells": [
  {
   "cell_type": "markdown",
   "id": "e84c4244",
   "metadata": {},
   "source": [
    "# Escuela Politécnica Nacional"
   ]
  },
  {
   "cell_type": "markdown",
   "id": "87305213",
   "metadata": {},
   "source": [
    "### Objetivos"
   ]
  },
  {
   "cell_type": "markdown",
   "id": "7c9b00ed",
   "metadata": {},
   "source": [
    "Este proyecto tiene como objetivo principal, medir el tiempo promedio que los estudiantes de la EPN se tardaron en culminar su carrera y encontrar si existe una relación entre la carrera y el tiempo de graduación"
   ]
  },
  {
   "cell_type": "markdown",
   "id": "a568ee4a",
   "metadata": {},
   "source": [
    "Librerías utilizadas"
   ]
  },
  {
   "cell_type": "code",
   "execution_count": 9,
   "id": "5c523db4",
   "metadata": {},
   "outputs": [],
   "source": [
    "import tabula\n",
    "import pandas as pd"
   ]
  },
  {
   "cell_type": "markdown",
   "id": "e080bc69",
   "metadata": {},
   "source": [
    "### Parámetros y configuraciones"
   ]
  },
  {
   "cell_type": "code",
   "execution_count": 11,
   "id": "fc1c09c4",
   "metadata": {},
   "outputs": [],
   "source": [
    "FILE_PATH_STUDENT = \"inputs/APROBADOS INGENIERIA_2012.pdf\"\n",
    "FILE_PATH_STUDENTS_CSV = \"epnStudents2021.csv\""
   ]
  },
  {
   "cell_type": "markdown",
   "id": "a3beb9c8",
   "metadata": {},
   "source": [
    "## Extracción"
   ]
  },
  {
   "cell_type": "markdown",
   "id": "93173cbe",
   "metadata": {},
   "source": [
    "Método para crear un archivo csv a partir del pdf"
   ]
  },
  {
   "cell_type": "code",
   "execution_count": 12,
   "id": "7a827667",
   "metadata": {},
   "outputs": [],
   "source": [
    "def getInfoFromPdf():\n",
    "    tabula.convert_into(FILE_PATH_STUDENT, \"epnStudents2021.csv\")"
   ]
  },
  {
   "cell_type": "markdown",
   "id": "01208561",
   "metadata": {},
   "source": [
    "Método para generar el dataset a partir un CSV"
   ]
  },
  {
   "cell_type": "code",
   "execution_count": 13,
   "id": "5df7bde9",
   "metadata": {},
   "outputs": [],
   "source": [
    "def getDatasetFromCSVFile(file_path_param):\n",
    "    data_set = pd.read_csv(FILE_PATH_STUDENTS_CSV)\n",
    "    print(data_set.head())\n",
    "    return data_set"
   ]
  },
  {
   "cell_type": "markdown",
   "id": "dcda316c",
   "metadata": {},
   "source": [
    "## Transformación"
   ]
  },
  {
   "cell_type": "markdown",
   "id": "a92b2b3d",
   "metadata": {},
   "source": [
    "## Load"
   ]
  },
  {
   "cell_type": "code",
   "execution_count": 14,
   "id": "7f7d3f1f",
   "metadata": {},
   "outputs": [
    {
     "name": "stderr",
     "output_type": "stream",
     "text": [
      "'pages' argument isn't specified.Will extract only from page 1 by default.\n"
     ]
    },
    {
     "name": "stdout",
     "output_type": "stream",
     "text": [
      "Init script\n",
      "         APELLIDOS               NOMBRES                    CARRERA\n",
      "0    ABARCA ROBLES           JUAN DANIEL  INGENIERIA AGROINDUSTRIAL\n",
      "1  ACOSTA CEVALLOS        STALIN ROBERTO                 MATEMATICA\n",
      "2   ACOSTA ORDOÑEZ  CHRISTOPHER LEONARDO        INGENIERIA MECANICA\n",
      "3    ACOSTA ROSERO           LUIS FELIPE        INGENIERIA MECANICA\n",
      "4    ACUÑA MONTERO         MARLON ANDRES                     FISICA\n",
      "End Script\n"
     ]
    }
   ],
   "source": [
    "if __name__ == '__main__':\n",
    "    print(\"Init script\")\n",
    "    getInfoFromPdf()\n",
    "    dataset = getDatasetFromCSVFile(FILE_PATH_STUDENTS_CSV)\n",
    "    print(\"End Script\")"
   ]
  },
  {
   "cell_type": "code",
   "execution_count": null,
   "id": "bc25a45a",
   "metadata": {},
   "outputs": [],
   "source": []
  }
 ],
 "metadata": {
  "kernelspec": {
   "display_name": "Python 3 (ipykernel)",
   "language": "python",
   "name": "python3"
  },
  "language_info": {
   "codemirror_mode": {
    "name": "ipython",
    "version": 3
   },
   "file_extension": ".py",
   "mimetype": "text/x-python",
   "name": "python",
   "nbconvert_exporter": "python",
   "pygments_lexer": "ipython3",
   "version": "3.10.9"
  }
 },
 "nbformat": 4,
 "nbformat_minor": 5
}
